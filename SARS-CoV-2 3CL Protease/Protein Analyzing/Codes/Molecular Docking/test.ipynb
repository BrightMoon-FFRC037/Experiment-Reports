{
 "cells": [
  {
   "cell_type": "code",
   "execution_count": 2,
   "metadata": {},
   "outputs": [],
   "source": [
    "import os \n",
    "from openbabel import pybel\n",
    "from vina import Vina\n",
    "os.chdir('/home/brightmoon/Experimental Class/3CL Protease/Virtual_Screen')"
   ]
  },
  {
   "cell_type": "markdown",
   "metadata": {},
   "source": [
    "### Ligand_Prep"
   ]
  },
  {
   "cell_type": "code",
   "execution_count": 3,
   "metadata": {},
   "outputs": [],
   "source": [
    "# smiles='CNC(=O)c1cc(cc(c1N[C@@H]2CCCC[C@@H]2NC(=O)c3cncc4c3cccc4)N(=O)=O)Br'\n",
    "mol_id = 'may1'"
   ]
  },
  {
   "cell_type": "code",
   "execution_count": 4,
   "metadata": {},
   "outputs": [],
   "source": [
    "# out=pybel.Outputfile(filename=f'./{mol_id}.mol2',format='mol2',overwrite=True)\n",
    "# mol=pybel.readstring(string=smiles,format='smiles')\n",
    "# mol.title=f'ligand_{smiles}'\n",
    "# mol.make3D('mmff94s')\n",
    "# mol.localopt(forcefield='mmff94s', steps=500)\n",
    "# out.write(mol)\n",
    "# out.close()"
   ]
  },
  {
   "cell_type": "code",
   "execution_count": 5,
   "metadata": {},
   "outputs": [],
   "source": [
    "# if the ligand endwith pdb: from pdb to mol2\n",
    "mol = pybel.readfile('pdb', f'./{mol_id}.pdb').__next__()\n",
    "mol.write('mol2', f'./{mol_id}.mol2', overwrite=True)"
   ]
  },
  {
   "cell_type": "markdown",
   "metadata": {},
   "source": [
    "### Protein_Perp"
   ]
  },
  {
   "cell_type": "code",
   "execution_count": 6,
   "metadata": {},
   "outputs": [],
   "source": [
    "# 以1iep.pdb 为例，pdb-tools可以很好地处理包含杂原子、水分子的pdb文件\n",
    "#os.system('pdb_selchain -A 7en8.pdb | pdb_delresname -HOH | pdb_delhetatm | pdb_tidy >1iep_clean.pdb')"
   ]
  },
  {
   "cell_type": "code",
   "execution_count": 10,
   "metadata": {},
   "outputs": [
    {
     "name": "stdout",
     "output_type": "stream",
     "text": [
      "adding gasteiger charges to peptide\n"
     ]
    },
    {
     "data": {
      "text/plain": [
       "0"
      ]
     },
     "execution_count": 10,
     "metadata": {},
     "output_type": "execute_result"
    }
   ],
   "source": [
    "os.system('prepare_receptor -r 7en8_clean.pdb -A \"hydrogens\" -o 7en8_receptor.pdbqt')"
   ]
  },
  {
   "cell_type": "code",
   "execution_count": 11,
   "metadata": {},
   "outputs": [],
   "source": [
    "def get_vina_box(pdbqt_file):\n",
    "    \"\"\"TODO: Implement function to calculate the docking box parameters for AutoDock Vina.\"\"\"\n",
    "    pass\n",
    "\n",
    "# return center = [x, y, z]"
   ]
  },
  {
   "cell_type": "code",
   "execution_count": 13,
   "metadata": {},
   "outputs": [
    {
     "name": "stdout",
     "output_type": "stream",
     "text": [
      "Computing Vina grid ... done.\n",
      "Performing docking (random seed: 1528748622) ... \n",
      "0%   10   20   30   40   50   60   70   80   90   100%\n",
      "|----|----|----|----|----|----|----|----|----|----|\n",
      "***************************************************\n",
      "\n",
      "mode |   affinity | dist from best mode\n",
      "     | (kcal/mol) | rmsd l.b.| rmsd u.b.\n",
      "-----+------------+----------+----------\n",
      "   1       -6.791          0          0\n",
      "   2       -6.653      1.247      1.566\n",
      "   3       -6.591      1.517      2.524\n",
      "   4       -6.367      6.179      8.488\n",
      "   5       -6.292      6.362      8.784\n",
      "   6       -6.196      1.421      1.519\n",
      "   7       -6.113      1.337      1.641\n",
      "   8       -6.024      2.603       3.31\n",
      "   9        -5.95      3.766      4.663\n",
      "  10       -5.913      2.255      2.631\n"
     ]
    }
   ],
   "source": [
    "os.system(f'prepare_ligand -l {mol_id}.mol2 -o {mol_id}.pdbqt')\n",
    "\n",
    "v = Vina(sf_name='vina')\n",
    "\n",
    "v.set_receptor('7en8_receptor.pdbqt')\n",
    "\n",
    "v.set_ligand_from_file(f'{mol_id}.pdbqt')\n",
    "\n",
    "v.compute_vina_maps(center=[-5.5, -7.75,26.25], box_size=[12.0, 15.5, 18.5])\n",
    "\n",
    "'''\n",
    "# Score the current pose\n",
    "energy = v.score()\n",
    "print('Score before minimization: %.3f (kcal/mol)' % energy[0])\n",
    "\n",
    "# Minimized locally the current pose\n",
    "energy_minimized = v.optimize()\n",
    "print('Score after minimization : %.3f (kcal/mol)' % energy_minimized[0])\n",
    "v.write_pose('1iep_ligand_minimized.pdbqt', overwrite=True)\n",
    "'''\n",
    "\n",
    "# Dock the ligand\n",
    "v.dock(exhaustiveness=32, n_poses=10)\n",
    "v.write_poses(f'{mol_id}_out.pdbqt', n_poses=10, overwrite=True)"
   ]
  },
  {
   "cell_type": "code",
   "execution_count": 15,
   "metadata": {},
   "outputs": [
    {
     "name": "stdout",
     "output_type": "stream",
     "text": [
      "Extracted binding affinities: -6.791\n"
     ]
    }
   ],
   "source": [
    "# Function to extract binding affinities from Vina log file\n",
    "def extract_vina_results(file_path):\n",
    "    affinities = []\n",
    "    \n",
    "    # Open the Vina log file for reading\n",
    "    with open(file_path, 'r') as file:\n",
    "        for line in file:\n",
    "            if line.startswith(\"REMARK VINA RESULT:\"):\n",
    "                # Split the line by spaces and extract the affinity value (2nd element after splitting)\n",
    "                affinity = float(line.split()[3])\n",
    "                affinities.append(affinity)\n",
    "    \n",
    "    return affinities[0]\n",
    "\n",
    "# Example usage\n",
    "vina_output_file = 'may1_out.pdbqt'  # Replace with the actual path to your file\n",
    "affinities = extract_vina_results(vina_output_file)\n",
    "\n",
    "# Output the results\n",
    "print(\"Extracted binding affinities:\", affinities)\n"
   ]
  }
 ],
 "metadata": {
  "kernelspec": {
   "display_name": "Python 3",
   "language": "python",
   "name": "python3"
  },
  "language_info": {
   "codemirror_mode": {
    "name": "ipython",
    "version": 3
   },
   "file_extension": ".py",
   "mimetype": "text/x-python",
   "name": "python",
   "nbconvert_exporter": "python",
   "pygments_lexer": "ipython3",
   "version": "3.12.2"
  }
 },
 "nbformat": 4,
 "nbformat_minor": 2
}
